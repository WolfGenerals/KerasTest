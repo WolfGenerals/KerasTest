{
 "cells": [
  {
   "cell_type": "markdown",
   "source": [
    "## 导入库"
   ],
   "metadata": {
    "collapsed": false
   },
   "id": "98d2c687bf138036"
  },
  {
   "cell_type": "code",
   "execution_count": 5,
   "outputs": [],
   "source": [
    "import logging\n",
    "\n",
    "from keras.models import Sequential\n",
    "from keras.src.datasets.mnist import load_data\n",
    "from keras.src.layers import *\n",
    "from keras import Model\n",
    "from keras.models import load_model\n",
    "import tensorflow\n",
    "from matplotlib import pyplot"
   ],
   "metadata": {
    "collapsed": false,
    "ExecuteTime": {
     "end_time": "2023-11-07T11:32:22.203157600Z",
     "start_time": "2023-11-07T11:32:22.191156700Z"
    }
   },
   "id": "643b7b60e2b8d3bd"
  },
  {
   "cell_type": "markdown",
   "source": [
    "## 检测GPU状态"
   ],
   "metadata": {
    "collapsed": false
   },
   "id": "1c2655a58bbfca66"
  },
  {
   "cell_type": "code",
   "execution_count": 6,
   "outputs": [
    {
     "name": "stdout",
     "output_type": "stream",
     "text": [
      "[PhysicalDevice(name='/physical_device:GPU:0', device_type='GPU')]\n"
     ]
    }
   ],
   "source": [
    "print(tensorflow.config.list_physical_devices('GPU'))"
   ],
   "metadata": {
    "collapsed": false,
    "ExecuteTime": {
     "end_time": "2023-11-07T11:32:22.263147400Z",
     "start_time": "2023-11-07T11:32:22.200155Z"
    }
   },
   "id": "cac36f9b879a4939"
  },
  {
   "cell_type": "markdown",
   "source": [
    "## 创建模型结构"
   ],
   "metadata": {
    "collapsed": false
   },
   "id": "4a9346c445aa6a7a"
  },
  {
   "cell_type": "code",
   "execution_count": 7,
   "outputs": [
    {
     "name": "stdout",
     "output_type": "stream",
     "text": [
      "Model: \"model\"\n",
      "_________________________________________________________________\n",
      " Layer (type)                Output Shape              Param #   \n",
      "=================================================================\n",
      " input_2 (InputLayer)        [(None, 28, 28, 1)]       0         \n",
      "                                                                 \n",
      " conv2d_1 (Conv2D)           (None, 28, 28, 8)         208       \n",
      "                                                                 \n",
      " activation (Activation)     (None, 28, 28, 8)         0         \n",
      "                                                                 \n",
      " max_pooling2d (MaxPooling2  (None, 14, 14, 8)         0         \n",
      " D)                                                              \n",
      "                                                                 \n",
      " conv2d_2 (Conv2D)           (None, 14, 14, 32)        2336      \n",
      "                                                                 \n",
      " activation_1 (Activation)   (None, 14, 14, 32)        0         \n",
      "                                                                 \n",
      " max_pooling2d_1 (MaxPoolin  (None, 7, 7, 32)          0         \n",
      " g2D)                                                            \n",
      "                                                                 \n",
      " flatten (Flatten)           (None, 1568)              0         \n",
      "                                                                 \n",
      " dense (Dense)               (None, 256)               401664    \n",
      "                                                                 \n",
      " activation_2 (Activation)   (None, 256)               0         \n",
      "                                                                 \n",
      " dense_1 (Dense)             (None, 10)                2570      \n",
      "                                                                 \n",
      " activation_3 (Activation)   (None, 10)                0         \n",
      "                                                                 \n",
      "=================================================================\n",
      "Total params: 406778 (1.55 MB)\n",
      "Trainable params: 406778 (1.55 MB)\n",
      "Non-trainable params: 0 (0.00 Byte)\n",
      "_________________________________________________________________\n"
     ]
    }
   ],
   "source": [
    "inputLayer = Input((28, 28,1))\n",
    "\n",
    "outputLayer = Conv2D(filters = 8,kernel_size = (5,5),padding = 'same')(inputLayer)\n",
    "outputLayer = Activation('relu')(outputLayer)\n",
    "outputLayer=MaxPool2D((3,3),(2,2),padding = 'same')(outputLayer)\n",
    "\n",
    "outputLayer = Conv2D(filters = 32,kernel_size = (3,3),padding = 'same')(outputLayer)\n",
    "outputLayer = Activation('relu')(outputLayer)\n",
    "outputLayer=MaxPool2D((3,3),(2,2),padding = 'same')(outputLayer)\n",
    "\n",
    "outputLayer = Flatten()(outputLayer)\n",
    "\n",
    "outputLayer = Dense(256)(outputLayer)\n",
    "outputLayer = Activation('relu')(outputLayer)\n",
    "\n",
    "outputLayer = Dense(10)(outputLayer)\n",
    "outputLayer = Activation('softmax')(outputLayer)\n",
    "\n",
    "model = Model(inputLayer, outputLayer)\n",
    "model.summary()"
   ],
   "metadata": {
    "collapsed": false,
    "ExecuteTime": {
     "end_time": "2023-11-07T11:32:30.857284600Z",
     "start_time": "2023-11-07T11:32:22.210156300Z"
    }
   },
   "id": "5908307bd3ba6d41"
  },
  {
   "cell_type": "markdown",
   "source": [
    "## 加载数据"
   ],
   "metadata": {
    "collapsed": false
   },
   "id": "e851201a6b0d261"
  },
  {
   "cell_type": "code",
   "execution_count": 8,
   "outputs": [
    {
     "name": "stdout",
     "output_type": "stream",
     "text": [
      "train_X: (60000, 28, 28)\n",
      "train_Y: (60000,)\n",
      "test_X:  (10000, 28, 28)\n",
      "test_Y:  (10000,)\n"
     ]
    }
   ],
   "source": [
    "from numpy import ndarray\n",
    "\n",
    "train_X: ndarray\n",
    "train_Y: ndarray\n",
    "test_X: ndarray\n",
    "test_Y: ndarray\n",
    "(train_X, train_Y), (test_X, test_Y) = load_data()\n",
    "\n",
    "print(\"train_X:\",train_X.shape)\n",
    "print(\"train_Y:\",train_Y.shape)\n",
    "print(\"test_X: \",test_X.shape)\n",
    "print(\"test_Y: \",test_Y.shape)\n"
   ],
   "metadata": {
    "collapsed": false,
    "ExecuteTime": {
     "end_time": "2023-11-07T11:32:31.164678200Z",
     "start_time": "2023-11-07T11:32:30.859064Z"
    }
   },
   "id": "90dd44194f53f9bf"
  },
  {
   "cell_type": "markdown",
   "source": [
    "## 训练"
   ],
   "metadata": {
    "collapsed": false
   },
   "id": "bf971e1e6268b798"
  },
  {
   "cell_type": "code",
   "execution_count": 9,
   "outputs": [
    {
     "name": "stdout",
     "output_type": "stream",
     "text": [
      "Epoch 1/20\n",
      "1875/1875 [==============================] - 21s 4ms/step - loss: 0.8035 - accuracy: 0.9372 - val_loss: 0.0925 - val_accuracy: 0.9698\n",
      "Epoch 2/20\n",
      "1875/1875 [==============================] - 6s 3ms/step - loss: 0.0815 - accuracy: 0.9751 - val_loss: 0.0808 - val_accuracy: 0.9739\n",
      "Epoch 3/20\n",
      "1875/1875 [==============================] - 6s 3ms/step - loss: 0.0664 - accuracy: 0.9795 - val_loss: 0.0666 - val_accuracy: 0.9788\n",
      "Epoch 4/20\n",
      "1875/1875 [==============================] - 6s 3ms/step - loss: 0.0602 - accuracy: 0.9819 - val_loss: 0.0570 - val_accuracy: 0.9831\n",
      "Epoch 5/20\n",
      "1875/1875 [==============================] - 6s 3ms/step - loss: 0.0548 - accuracy: 0.9834 - val_loss: 0.0648 - val_accuracy: 0.9818\n",
      "Epoch 6/20\n",
      "1875/1875 [==============================] - 6s 3ms/step - loss: 0.0456 - accuracy: 0.9864 - val_loss: 0.0736 - val_accuracy: 0.9791\n",
      "Epoch 7/20\n",
      "1875/1875 [==============================] - 6s 3ms/step - loss: 0.0416 - accuracy: 0.9879 - val_loss: 0.0564 - val_accuracy: 0.9856\n",
      "Epoch 8/20\n",
      "1875/1875 [==============================] - 6s 3ms/step - loss: 0.0395 - accuracy: 0.9883 - val_loss: 0.0907 - val_accuracy: 0.9761\n",
      "Epoch 9/20\n",
      "1875/1875 [==============================] - 6s 3ms/step - loss: 0.0362 - accuracy: 0.9894 - val_loss: 0.0541 - val_accuracy: 0.9856\n",
      "Epoch 10/20\n",
      "1875/1875 [==============================] - 6s 3ms/step - loss: 0.0342 - accuracy: 0.9902 - val_loss: 0.0593 - val_accuracy: 0.9856\n",
      "Epoch 11/20\n",
      "1875/1875 [==============================] - 6s 3ms/step - loss: 0.0324 - accuracy: 0.9908 - val_loss: 0.0774 - val_accuracy: 0.9805\n",
      "Epoch 12/20\n",
      "1875/1875 [==============================] - 6s 3ms/step - loss: 0.0327 - accuracy: 0.9915 - val_loss: 0.0916 - val_accuracy: 0.9823\n",
      "Epoch 13/20\n",
      "1875/1875 [==============================] - 6s 3ms/step - loss: 0.0298 - accuracy: 0.9921 - val_loss: 0.0865 - val_accuracy: 0.9844\n",
      "Epoch 14/20\n",
      "1875/1875 [==============================] - 6s 3ms/step - loss: 0.0339 - accuracy: 0.9915 - val_loss: 0.0739 - val_accuracy: 0.9857\n",
      "Epoch 15/20\n",
      "1875/1875 [==============================] - 6s 3ms/step - loss: 0.0253 - accuracy: 0.9936 - val_loss: 0.0784 - val_accuracy: 0.9844\n",
      "Epoch 16/20\n",
      "1875/1875 [==============================] - 6s 3ms/step - loss: 0.0282 - accuracy: 0.9933 - val_loss: 0.1032 - val_accuracy: 0.9843\n",
      "Epoch 17/20\n",
      "1875/1875 [==============================] - 6s 3ms/step - loss: 0.0306 - accuracy: 0.9927 - val_loss: 0.0700 - val_accuracy: 0.9868\n",
      "Epoch 18/20\n",
      "1875/1875 [==============================] - 6s 3ms/step - loss: 0.0284 - accuracy: 0.9935 - val_loss: 0.0820 - val_accuracy: 0.9872\n",
      "Epoch 19/20\n",
      "1875/1875 [==============================] - 6s 3ms/step - loss: 0.0285 - accuracy: 0.9934 - val_loss: 0.1127 - val_accuracy: 0.9817\n",
      "Epoch 20/20\n",
      "1875/1875 [==============================] - 6s 3ms/step - loss: 0.0261 - accuracy: 0.9939 - val_loss: 0.1181 - val_accuracy: 0.9836\n",
      "313/313 [==============================] - 1s 3ms/step - loss: 0.1181 - accuracy: 0.9836\n",
      "loss: [0.11806407570838928, 0.9836000204086304]\n"
     ]
    }
   ],
   "source": [
    "epochs = 20\n",
    "model.compile(\n",
    "    loss = 'sparse_categorical_crossentropy',\n",
    "    optimizer = 'adam',\n",
    "    metrics = ['accuracy']\n",
    ")\n",
    "fit = model.fit(train_X, train_Y,\n",
    "                validation_data = (test_X, test_Y),\n",
    "                epochs = epochs)\n",
    "\n",
    "print(\"loss:\", model.evaluate(test_X, test_Y))"
   ],
   "metadata": {
    "collapsed": false,
    "ExecuteTime": {
     "end_time": "2023-11-07T11:34:48.917214200Z",
     "start_time": "2023-11-07T11:32:31.162597600Z"
    }
   },
   "id": "a07b95e0f296a1cd"
  },
  {
   "cell_type": "code",
   "execution_count": 10,
   "outputs": [
    {
     "data": {
      "text/plain": "<Figure size 640x480 with 1 Axes>",
      "image/png": "[encoded data removed]"
     },
     "metadata": {},
     "output_type": "display_data"
    }
   ],
   "source": [
    "pyplot.style.use(\"ggplot\")\n",
    "pyplot.figure()\n",
    "pyplot.plot(range(epochs), fit.history[\"loss\"], label = \"train_loss\")\n",
    "pyplot.plot(range(epochs), fit.history[\"val_loss\"], label = \"val_loss\")\n",
    "pyplot.plot(range(epochs), fit.history[\"accuracy\"], label = \"train_acc\")\n",
    "pyplot.plot(range(epochs), fit.history[\"val_accuracy\"], label = \"val_acc\")\n",
    "pyplot.title(\"title\")\n",
    "pyplot.xlabel(\"Epoch #\")\n",
    "pyplot.ylabel(\"Loss/Accuracy\")\n",
    "pyplot.legend()\n",
    "pyplot.show()"
   ],
   "metadata": {
    "collapsed": false,
    "ExecuteTime": {
     "end_time": "2023-11-07T11:34:49.107674Z",
     "start_time": "2023-11-07T11:34:48.935255300Z"
    }
   },
   "id": "99b0474ab9e50f92"
  },
  {
   "cell_type": "code",
   "execution_count": 13,
   "outputs": [
    {
     "name": "stdout",
     "output_type": "stream",
     "text": [
      "INFO:tensorflow:Assets written to: CNN-MNIST/assets\n"
     ]
    },
    {
     "name": "stderr",
     "output_type": "stream",
     "text": [
      "INFO:tensorflow:Assets written to: CNN-MNIST/assets\n"
     ]
    },
    {
     "name": "stdout",
     "output_type": "stream",
     "text": [
      "4\n",
      "(28, 28)\n",
      "1/1 [==============================] - 0s 13ms/step\n",
      "predict [[2.9446527e-29 1.4116279e-19 7.1454669e-19 6.5926945e-25 1.0000000e+00\n",
      "  3.8927225e-21 3.7222396e-26 2.2684872e-18 1.0546558e-16 5.5904789e-16]]\n",
      "1/1 [==============================] - 0s 43ms/step\n",
      "predict [[2.9446527e-29 1.4116279e-19 7.1454669e-19 6.5926945e-25 1.0000000e+00\n",
      "  3.8927225e-21 3.7222396e-26 2.2684872e-18 1.0546558e-16 5.5904789e-16]]\n"
     ]
    },
    {
     "data": {
      "text/plain": "<Figure size 640x480 with 1 Axes>",
      "image/png": "[encoded data removed]"
     },
     "metadata": {},
     "output_type": "display_data"
    }
   ],
   "source": [
    "model.save(\"CNN-MNIST\")\n",
    "model1: Model = load_model(\"CNN-MNIST\")\n",
    "print(test_Y[6])\n",
    "print(test_X[6].shape)\n",
    "pyplot.imshow(test_X[6])\n",
    "print(\"predict\",model.predict(test_X[6].reshape((1,28,28))))\n",
    "print(\"predict\",model1.predict(test_X[6].reshape((1,28,28))))"
   ],
   "metadata": {
    "collapsed": false,
    "ExecuteTime": {
     "end_time": "2023-11-07T11:37:16.762780700Z",
     "start_time": "2023-11-07T11:37:12.887848500Z"
    }
   },
   "id": "218079f75664d2cc"
  }
 ],
 "metadata": {
  "kernelspec": {
   "display_name": "Python 3",
   "language": "python",
   "name": "python3"
  },
  "language_info": {
   "codemirror_mode": {
    "name": "ipython",
    "version": 2
   },
   "file_extension": ".py",
   "mimetype": "text/x-python",
   "name": "python",
   "nbconvert_exporter": "python",
   "pygments_lexer": "ipython2",
   "version": "2.7.6"
  }
 },
 "nbformat": 4,
 "nbformat_minor": 5
}
